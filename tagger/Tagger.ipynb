{
 "cells": [
  {
   "cell_type": "code",
   "execution_count": 333,
   "metadata": {},
   "outputs": [],
   "source": [
    "import nl_core_news_sm\n",
    "import en_core_web_sm\n",
    "import de_core_news_sm\n",
    "import redis\n",
    "from spacy.symbols import NOUN, VERB, PROPN, PRON\n",
    "from spacy import displacy\n",
    "from flask import Flask, request\n",
    "from flask_restful import Resource, Api\n",
    "from json import dumps\n",
    "from flask import jsonify\n",
    "from flask import Response"
   ]
  },
  {
   "cell_type": "code",
   "execution_count": 369,
   "metadata": {},
   "outputs": [],
   "source": [
    "def validate(token):\n",
    "    return ((token.dep_ == 'ROOT' and token.pos_ == 'NOUN') or\n",
    "            (token.pos_ == 'PROPN' and token.head.pos_ == 'PROPN') or\n",
    "            (token.pos_ == 'ADJ' and token.head.pos_ == 'NOUN') or\n",
    "            (token.pos_ == 'ADJ' and token.head.pos_ == 'VERB' and token.dep_ != 'obl') or\n",
    "            (token.pos_ == 'NUM' and token.head.pos_ == 'PROPN') or\n",
    "            (token.pos_ == 'NOUN' and token.head.pos_ == 'NOUN' and token.dep_ == 'amod') and\n",
    "            (token.text != token.head.text))\n",
    "\n",
    "def extract_tag(text):\n",
    "    nlp = nl_core_news_sm.load()\n",
    "    doc = nlp(text)\n",
    "    options = {\"compact\": True}\n",
    "#     displacy.render(doc, style=\"dep\", options=options)\n",
    "#     print(\"Nouns:\", [(token.text, token.head.text) for token in doc if validate(token) == True])\n",
    "#     for token in doc:\n",
    "#         validate(token)\n",
    "#     for token in doc:\n",
    "#         print(token.text, token.dep_, token.head.text, token.head.pos_, [child for child in token.children])\n",
    "#     print(\"Noun phrases:\", [chunk.text for chunk in doc.noun_chunks])\n",
    "#     for token in doc:\n",
    "#         print(\"\\n\")\n",
    "#         print(token.text, token.pos_, token.head.text, token.head.pos_)\n",
    "#         print(\"Children:\", [child for child in token.children])\n",
    "        \n",
    "#     print(\"Verbs:\", [(token.text, token.dep_) for token in doc])\n",
    "\n",
    "\n",
    "    nouns = []\n",
    "    for token in doc:\n",
    "        if validate(token) == True:\n",
    "            if token.dep_ == 'ROOT' and token.pos_ == 'NOUN':\n",
    "                nouns.append(token.text.lower())\n",
    "            else:\n",
    "                nouns.append((\"%s %s\" % (token.text, token.head.text)).lower())\n",
    "\n",
    "    print(nouns)"
   ]
  },
  {
   "cell_type": "code",
   "execution_count": 370,
   "metadata": {},
   "outputs": [
    {
     "name": "stdout",
     "output_type": "stream",
     "text": [
      "['superieure geluidskwaliteit', 'geluidskwaliteit', 'goed gefilmd']\n"
     ]
    }
   ],
   "source": [
    "# extract_tag(\"The 6.1-inch Liquid Retina Display of the iPhone 11 is \\\n",
    "# just as large as that of the iPhone Xr, but this device has a lot of \\\n",
    "# new features.\")\n",
    "extract_tag(\"Als je van IPhone 6 komt (die nog werkte) naar dit monster, besef je niet volledig hoe veel \\\n",
    "de IPhone verbeterd is, tot je er even bij stilstaat. De snelheid de rekenkracht, de foto's, de \\\n",
    "superieure geluidskwaliteit. Dit WE bv een stuk van een optreden gefilmd en beeld en geluid waren \\\n",
    "ongelooflijk goed.\")"
   ]
  },
  {
   "cell_type": "code",
   "execution_count": null,
   "metadata": {},
   "outputs": [],
   "source": []
  }
 ],
 "metadata": {
  "kernelspec": {
   "display_name": "Python 3",
   "language": "python",
   "name": "python3"
  },
  "language_info": {
   "codemirror_mode": {
    "name": "ipython",
    "version": 3
   },
   "file_extension": ".py",
   "mimetype": "text/x-python",
   "name": "python",
   "nbconvert_exporter": "python",
   "pygments_lexer": "ipython3",
   "version": "3.7.7"
  }
 },
 "nbformat": 4,
 "nbformat_minor": 4
}
